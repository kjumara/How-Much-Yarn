{
 "cells": [
  {
   "cell_type": "markdown",
   "id": "72b1ab0e-aea3-4f4e-af15-f2d583ecad95",
   "metadata": {},
   "source": [
    "<H1>Yardage Per Yarn Color in Project</H1>"
   ]
  },
  {
   "cell_type": "markdown",
   "id": "b437a02a-3360-411e-8711-53b35d8240a4",
   "metadata": {},
   "source": [
    "<p> Probably turn into shiny app </p>"
   ]
  },
  {
   "cell_type": "markdown",
   "id": "7ad1e787-b333-4aa5-9c48-680723058867",
   "metadata": {},
   "source": [
    "<h3>Yarn Weight [a dropdown list]</h3>\n",
    "<h3>Amount of Stitches in each Color [make colors a choice and then enter numbers or maybe a button to add new colors]</h3>\n",
    "<h3> Weight of a 10x10 sample in Grams</h3>"
   ]
  },
  {
   "cell_type": "markdown",
   "id": "d332fc68-08b6-42e5-afa4-daad3a76b3a0",
   "metadata": {},
   "source": [
    "Returns Exact yardage needed for each color to add to pattern"
   ]
  },
  {
   "cell_type": "markdown",
   "id": "13005b00-55df-41f5-a948-c52c035c703e",
   "metadata": {},
   "source": [
    "Optional: A button that reveals explanation for each thing such as what yarn weights are and such."
   ]
  },
  {
   "cell_type": "code",
   "execution_count": 14,
   "id": "40312b3f-013d-4e15-8a6e-536cf5e541d6",
   "metadata": {},
   "outputs": [],
   "source": [
    "from tkinter import *\n",
    "from tkinter import ttk"
   ]
  },
  {
   "cell_type": "code",
   "execution_count": 15,
   "id": "e85c47c8-2640-433c-8d6e-a7023066b422",
   "metadata": {},
   "outputs": [],
   "source": [
    "#Note: This is weight per hundred grams so that needs to be taken into account when doing math\n",
    "yardagebyweight = {\n",
    "    \"Lace\" : 500,\n",
    "    \"Fingering\" : 500,\n",
    "    \"Sport\" : 190,\n",
    "    \"DK\" : 190,\n",
    "    \"Worsted\" : 190,\n",
    "    \"Aran\" : 140,\n",
    "    \"Bulky\" : 100,\n",
    "    \"Super Bulky\" : 40,\n",
    "    \"Jumbo\" : 5\n",
    "}\n",
    "\n",
    "#this list makes it easier to later create a dropdown list of yarn weights\n",
    "yarnWeights = list(yardagebyweight.keys())\n",
    "\n",
    "#note to print for user to understand\n",
    "noteAboutWeight = \"Each yarn has a range of yards due to different brands.\\nThis calculator is using the lower end of the scale.\\nFor Example Lace Weight yarn can be between 500 - 1000 yards per hundred grams, we will be assuming 500 yards.\\nThis is due to it being better having too much yarn rather than too little.\""
   ]
  },
  {
   "cell_type": "code",
   "execution_count": 217,
   "id": "2ae88f8a-dec3-4d1b-bb40-a9e6b4d69e6a",
   "metadata": {},
   "outputs": [],
   "source": [
    "import math \n",
    "\n",
    "def yarnWeight(e):\n",
    "        for item in yardagebyweight:\n",
    "            if weights.get() == item:\n",
    "                return 0\n",
    "        print(\"Not Applicable\")\n",
    "\n",
    "def sampleWeight():\n",
    "    if sampleWeightBox.get().isdigit():\n",
    "        res.config(text=\"Input Accepted.\")\n",
    "    else:\n",
    "        res.config(text=\"This is not an integer. Please try again.\")\n",
    "\n",
    "def stitchNum():\n",
    "        if stitchnum.get().isdigit():\n",
    "            sres.config(text=\"Input Accepted.\")\n",
    "        else:\n",
    "            res.config(text=\"This is not an integer. Please try again.\")\n",
    "    \n",
    "def finRes():\n",
    "    try:\n",
    "        x = weights.get()\n",
    "        ybw = yardagebyweight[x]\n",
    "        stitches = int(stitchnum.get())\n",
    "        sampleweight = int(sampleWeightBox.get())\n",
    "        ypg = ybw/100.00 #yards in one gram\n",
    "        swg = sampleweight/100.00 #grams in one stitch\n",
    "        totalyards = swg * ypg * stitches #total yards for the project\n",
    "        skeinsOfYarn = math.ceil(totalyards/ybw) #most skeins are 100 grams, so this will be how many hundred gram skeins \n",
    "        endingstring = \"You will need approximately \" + str(math.ceil(totalyards)) + \" yards of yarn.\\nThat would be about \" + str(skeinsOfYarn) +\" 100 gram skeins of yarn\"\n",
    "        finalAnswer.config(text=endingstring)\n",
    "    except NameError:\n",
    "        print(\"One of the data points is not correctly entered. Please fix and try again.\")\n",
    "\n"
   ]
  },
  {
   "cell_type": "code",
   "execution_count": 218,
   "id": "c9421de7-81ee-4946-9e86-71731bde33ea",
   "metadata": {},
   "outputs": [],
   "source": [
    "#create the frame\n",
    "root = Tk()\n",
    "root.title(\"Yardage of Each Yarn\")\n",
    "root.geometry(\"500x600\")\n",
    "\n",
    "#create the dropdown for yarn weights\n",
    "weights = ttk.Combobox(root, value=yarnWeights)\n",
    "weights.current(0)\n",
    "weights.pack(pady=20)\n",
    "\n",
    "#save weight\n",
    "weights.bind(\"<<ComboboxSelected>>\", yarnWeight)\n",
    "\n",
    "#amount of colors\n",
    "\n",
    "#amount of stitches in each color\n",
    "\n",
    "#weight of 10x10 sample\n",
    "sampleWeightLabel = Label(root, text=\"Take a 10x10 stitch sample of the project and weigh it in grams.\\nInput the closest integer (round up).\")\n",
    "sampleWeightLabel.pack(pady = 20)\n",
    "\n",
    "sampleWeightBox = Entry(root)\n",
    "sampleWeightBox.pack(pady=10)\n",
    "\n",
    "button = Button(root, text=\"Sample Weight\", command=sampleWeight)\n",
    "button.pack(pady=5)\n",
    "\n",
    "res = Label(root, text='')\n",
    "res.pack(pady=20)\n",
    "\n",
    "#number of stitches of the particulat color you are working on\n",
    "stitchnum = Entry(root)\n",
    "stitchnum.pack(pady=10)\n",
    "\n",
    "sbutton = Button(root, text=\"Stitches of Color Being Used\", command=stitchNum)\n",
    "sbutton.pack(pady=5)\n",
    "\n",
    "sres = Label(root, text='')\n",
    "sres.pack(pady=20)\n",
    "\n",
    "\n",
    "\n",
    "#The Last Thing The Program Does, put All information together and finds solution\n",
    "button2= Button(root, text=\"Click For Answer\", command=finRes)\n",
    "button2.pack(pady=5)\n",
    "\n",
    "finalAnswer = Label(root, text='')\n",
    "finalAnswer.pack(pady=20)\n",
    "\n",
    "#start\n",
    "root.mainloop()"
   ]
  },
  {
   "cell_type": "markdown",
   "id": "3867ab13-f62d-4e3a-9ccb-79ee36515f3b",
   "metadata": {},
   "source": []
  }
 ],
 "metadata": {
  "kernelspec": {
   "display_name": "Python 3 (ipykernel)",
   "language": "python",
   "name": "python3"
  },
  "language_info": {
   "codemirror_mode": {
    "name": "ipython",
    "version": 3
   },
   "file_extension": ".py",
   "mimetype": "text/x-python",
   "name": "python",
   "nbconvert_exporter": "python",
   "pygments_lexer": "ipython3",
   "version": "3.9.12"
  }
 },
 "nbformat": 4,
 "nbformat_minor": 5
}
