{
 "cells": [
  {
   "cell_type": "markdown",
   "id": "72b1ab0e-aea3-4f4e-af15-f2d583ecad95",
   "metadata": {},
   "source": [
    "<H1>Yardage Per Yarn Color in Project</H1>"
   ]
  },
  {
   "cell_type": "markdown",
   "id": "b437a02a-3360-411e-8711-53b35d8240a4",
   "metadata": {},
   "source": [
    "<p> Probably turn into shiny app </p>"
   ]
  },
  {
   "cell_type": "markdown",
   "id": "7ad1e787-b333-4aa5-9c48-680723058867",
   "metadata": {},
   "source": [
    "<h3>Yarn Weight [a dropdown list]</h3>\n",
    "<h3>Amount of Stitches in each Color [make colors a choice and then enter numbers or maybe a button to add new colors]</h3>\n",
    "<h3> Weight of a 10x10 sample in Grams</h3>"
   ]
  },
  {
   "cell_type": "markdown",
   "id": "d332fc68-08b6-42e5-afa4-daad3a76b3a0",
   "metadata": {},
   "source": [
    "Returns Exact yardage needed for each color to add to pattern"
   ]
  },
  {
   "cell_type": "markdown",
   "id": "13005b00-55df-41f5-a948-c52c035c703e",
   "metadata": {},
   "source": [
    "Optional: A button that reveals explanation for each thing such as what yarn weights are and such."
   ]
  },
  {
   "cell_type": "code",
   "execution_count": 9,
   "id": "40312b3f-013d-4e15-8a6e-536cf5e541d6",
   "metadata": {},
   "outputs": [],
   "source": [
    "from tkinter import *\n",
    "from tkinter import ttk"
   ]
  },
  {
   "cell_type": "code",
   "execution_count": 10,
   "id": "e85c47c8-2640-433c-8d6e-a7023066b422",
   "metadata": {},
   "outputs": [],
   "source": [
    "#Note: This is weight per hundred grams so that needs to be taken into account when doing math\n",
    "yardagebyweight = {\n",
    "    \"Lace\" : 500,\n",
    "    \"Fingering\" : 500,\n",
    "    \"Sport\" : 190,\n",
    "    \"DK\" : 190,\n",
    "    \"Worsted\" : 190,\n",
    "    \"Aran\" : 140,\n",
    "    \"Bulky\" : 100,\n",
    "    \"Super Bulky\" : 40,\n",
    "    \"Jumbo\" : 5\n",
    "}\n",
    "\n",
    "#this list makes it easier to later create a dropdown list of yarn weights\n",
    "yarnWeights = list(yardagebyweight.keys())\n",
    "\n",
    "#note to print for user to understand\n",
    "noteAboutWeight = \"Each yarn has a range of yards due to different brands.\\nThis calculator is using the lower end of the scale.\\nFor Example Lace Weight yarn can be between 500 - 1000 yards per hundred grams, we will be assuming 500 yards.\\nThis is due to it being better having too much yarn rather than too little.\""
   ]
  },
  {
   "cell_type": "code",
   "execution_count": 13,
   "id": "c9421de7-81ee-4946-9e86-71731bde33ea",
   "metadata": {},
   "outputs": [],
   "source": [
    "root = Tk()\n",
    "frm = ttk.Frame(root, padding=10)\n",
    "frm.grid()\n",
    "ttk.Label(frm, text=noteAboutWeight).grid(column=0, row=0)\n",
    "ttk.Button(frm, text=\"Quit\", command=root.destroy).grid(column=1, row=0)\n",
    "root.mainloop()"
   ]
  },
  {
   "cell_type": "code",
   "execution_count": null,
   "id": "2ae88f8a-dec3-4d1b-bb40-a9e6b4d69e6a",
   "metadata": {},
   "outputs": [],
   "source": []
  }
 ],
 "metadata": {
  "kernelspec": {
   "display_name": "Python 3 (ipykernel)",
   "language": "python",
   "name": "python3"
  },
  "language_info": {
   "codemirror_mode": {
    "name": "ipython",
    "version": 3
   },
   "file_extension": ".py",
   "mimetype": "text/x-python",
   "name": "python",
   "nbconvert_exporter": "python",
   "pygments_lexer": "ipython3",
   "version": "3.9.12"
  }
 },
 "nbformat": 4,
 "nbformat_minor": 5
}
